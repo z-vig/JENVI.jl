{
 "cells": [
  {
   "cell_type": "code",
   "execution_count": 43,
   "metadata": {},
   "outputs": [
    {
     "data": {
      "text/plain": [
       "read_name (generic function with 1 method)"
      ]
     },
     "metadata": {},
     "output_type": "display_data"
    }
   ],
   "source": [
    "using GLMakie\n",
    "using HDF5\n",
    "# using JENVI\n",
    "\n",
    "function read_name(fp,nm)\n",
    "    data =  h5open(fp) do f\n",
    "        return f[nm][:,:,:]\n",
    "    end\n",
    "    return data\n",
    "end"
   ]
  },
  {
   "cell_type": "code",
   "execution_count": 44,
   "metadata": {},
   "outputs": [
    {
     "data": {
      "text/plain": [
       "\"C:/Lunar_Imagery_Data/M3_data/hdf5_files/target_corrected.hdf5\""
      ]
     },
     "metadata": {},
     "output_type": "display_data"
    }
   ],
   "source": [
    "h5file = \"C:/Lunar_Imagery_Data/M3_data/hdf5_files/target_corrected.hdf5\""
   ]
  },
  {
   "cell_type": "code",
   "execution_count": 45,
   "metadata": {},
   "outputs": [
    {
     "name": "stdout",
     "output_type": "stream",
     "text": [
      "257 178\n"
     ]
    },
    {
     "data": {
      "text/plain": [
       "Dict{String, Vector{Float64}} with 5 entries:\n",
       "  \"rfl_gnd_sm\" => [0.0725563, 0.0721344, 0.0618435, 0.0617249, 0.0702949, 0.070…\n",
       "  \"rfl_gnd\"    => [0.0725563, 0.0721344, 0.0618435, 0.0617249, 0.0724303, 0.059…\n",
       "  \"cont\"       => [0.0813819, 0.0817413, 0.0821007, 0.0824601, 0.0828195, 0.083…\n",
       "  \"contrem\"    => [0.891553, 0.882472, 0.753264, 0.748543, 0.848772, 0.845045, …\n",
       "  \"rfl\"        => [0.0726018, 0.0721721, 0.0618715, 0.0617508, 0.0724582, 0.060…"
      ]
     },
     "metadata": {},
     "output_type": "display_data"
    }
   ],
   "source": [
    "rfl = read_name(h5file,\"VectorDatasets/Reflectance\")\n",
    "rfl_gnd = read_name(h5file,\"VectorDatasets/Reflectance_GNDTRU\")\n",
    "rfl_gnd_sm = read_name(h5file,\"VectorDatasets/Reflectance_GNDTRU_Smooth\")\n",
    "cont = read_name(h5file,\"VectorDatasets/ContinuumValues\")\n",
    "contrem = read_name(h5file,\"VectorDatasets/ContinuumRemoved\")\n",
    "\n",
    "xtest = rand(1:size(rfl,1)); ytest = rand(1:size(rfl,2))\n",
    "xtest = 257;ytest=178\n",
    "println(xtest,\" \",ytest)\n",
    "test_dict = Dict(\n",
    "    \"rfl\" => rfl[xtest,ytest,:],\n",
    "    \"rfl_gnd\" => rfl_gnd[xtest,ytest,:],\n",
    "    \"rfl_gnd_sm\" => rfl_gnd_sm[xtest,ytest,:],\n",
    "    \"cont\" => cont[xtest,ytest,:],\n",
    "    \"contrem\" => contrem[xtest,ytest,:]\n",
    ")"
   ]
  },
  {
   "cell_type": "code",
   "execution_count": 47,
   "metadata": {},
   "outputs": [
    {
     "data": {
      "text/plain": [
       "GLMakie.Screen(...)"
      ]
     },
     "metadata": {},
     "output_type": "display_data"
    }
   ],
   "source": [
    "f = Figure()\n",
    "ax1 = Axis(f[1,1],xlabel=\"Wavelength (μm)\",ylabel=\"Reflectance\")\n",
    "ax2 = Axis(f[1,2],xlabel=\"Wavelength (μm)\",ylabel=\"Relative Reflectance\")\n",
    "\n",
    "λ = h5open(h5file) do f\n",
    "    return attrs(f)[\"raw_wavelengths\"]\n",
    "end\n",
    "\n",
    "for key in keys(test_dict)\n",
    "    if key != \"contrem\"\n",
    "        lines!(ax1, λ, test_dict[key],label=key)\n",
    "    else\n",
    "        lines!(ax2,λ,test_dict[key],label=key)\n",
    "    end\n",
    "end\n",
    "axislegend(ax1,position = :lt)\n",
    "\n",
    "display(GLMakie.Screen(),f)"
   ]
  },
  {
   "cell_type": "code",
   "execution_count": 40,
   "metadata": {},
   "outputs": [
    {
     "data": {
      "text/plain": [
       "GLMakie.Screen(...)"
      ]
     },
     "metadata": {},
     "output_type": "display_data"
    }
   ],
   "source": [
    "f = Figure()\n",
    "ax = Axis(f[1,1])\n",
    "image!(ax,rfl[:,:,230])\n",
    "scatter!(ax,xtest,ytest)\n",
    "display(GLMakie.Screen(),f)"
   ]
  }
 ],
 "metadata": {
  "kernelspec": {
   "display_name": "Julia 1.9.4",
   "language": "julia",
   "name": "julia-1.9"
  },
  "language_info": {
   "file_extension": ".jl",
   "mimetype": "application/julia",
   "name": "julia",
   "version": "1.9.4"
  }
 },
 "nbformat": 4,
 "nbformat_minor": 2
}
